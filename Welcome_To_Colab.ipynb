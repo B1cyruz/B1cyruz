{
  "cells": [
    {
      "cell_type": "markdown",
      "metadata": {
        "id": "view-in-github",
        "colab_type": "text"
      },
      "source": [
        "<a href=\"https://colab.research.google.com/github/B1cyruz/B1cyruz/blob/main/Welcome_To_Colab.ipynb\" target=\"_parent\"><img src=\"https://colab.research.google.com/assets/colab-badge.svg\" alt=\"Open In Colab\"/></a>"
      ]
    },
    {
      "cell_type": "code",
      "source": [
        "import numpy as np\n",
        "escalar = np.array(42)\n",
        "print(type(escalar))\n",
        "print(escalar)"
      ],
      "metadata": {
        "id": "qZP70n9K__zM",
        "outputId": "344178ec-9d5f-4a5e-bc70-8cf1698a0706",
        "colab": {
          "base_uri": "https://localhost:8080/"
        }
      },
      "execution_count": 4,
      "outputs": [
        {
          "output_type": "stream",
          "name": "stdout",
          "text": [
            "<class 'numpy.ndarray'>\n",
            "42\n"
          ]
        }
      ]
    },
    {
      "cell_type": "code",
      "source": [
        "vector = np.array([25,18,42,49,78,73,48])\n",
        "print(vector)"
      ],
      "metadata": {
        "id": "NNd4rWfxBFr5",
        "outputId": "0e71b698-6853-4c0e-886b-5fd3cff9d9c3",
        "colab": {
          "base_uri": "https://localhost:8080/"
        }
      },
      "execution_count": 5,
      "outputs": [
        {
          "output_type": "stream",
          "name": "stdout",
          "text": [
            "[25 18 42 49 78 73 48]\n"
          ]
        }
      ]
    },
    {
      "cell_type": "code",
      "source": [
        "matrix = np.array([[1,2,3],[4,5,6],[7,8,9]])\n",
        "print (matrix)"
      ],
      "metadata": {
        "id": "PDQFqShoB1yM",
        "outputId": "fb684170-6b19-4556-aed7-c0e512c2ee29",
        "colab": {
          "base_uri": "https://localhost:8080/"
        }
      },
      "execution_count": 6,
      "outputs": [
        {
          "output_type": "stream",
          "name": "stdout",
          "text": [
            "[[1 2 3]\n",
            " [4 5 6]\n",
            " [7 8 9]]\n"
          ]
        }
      ]
    }
  ],
  "metadata": {
    "colab": {
      "name": "Welcome To Colab",
      "toc_visible": true,
      "provenance": [],
      "include_colab_link": true
    },
    "kernelspec": {
      "display_name": "Python 3",
      "name": "python3"
    }
  },
  "nbformat": 4,
  "nbformat_minor": 0
}